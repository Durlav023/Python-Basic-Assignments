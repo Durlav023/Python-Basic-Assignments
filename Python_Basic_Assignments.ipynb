{
  "nbformat": 4,
  "nbformat_minor": 0,
  "metadata": {
    "colab": {
      "provenance": []
    },
    "kernelspec": {
      "name": "python3",
      "display_name": "Python 3"
    },
    "language_info": {
      "name": "python"
    }
  },
  "cells": [
    {
      "cell_type": "code",
      "execution_count": null,
      "metadata": {
        "id": "l1_aPaHpYExp"
      },
      "outputs": [],
      "source": []
    },
    {
      "cell_type": "markdown",
      "source": [
        "Python Basics Questions."
      ],
      "metadata": {
        "id": "CW0p4Gj_YQX6"
      }
    },
    {
      "cell_type": "markdown",
      "source": [
        "1. What is Python, and why is it popular?\n",
        "   \n",
        "   -> Python is a popular programming language. Python become popular because it's easy to learn, efficient, and can run on many different platforms. It's also versatile, flexible, and has a robust community and mature resources available."
      ],
      "metadata": {
        "id": "qEjCCVOKYOrF"
      }
    },
    {
      "cell_type": "markdown",
      "source": [
        "2. What is an interpreter in Python?\n",
        "  \n",
        "  ->  Python interpreter is a computer program that takes the Python code and converts it into machine code. We also have compilers that translate high-level code into machine code before execution but an interpreter is different. It translates the code you write into instructions that the computer can understand, executing them line by line."
      ],
      "metadata": {
        "id": "g1aMnL1aY7HL"
      }
    },
    {
      "cell_type": "markdown",
      "source": [
        "3. What are pre-defined keywords in Python?\n",
        "  \n",
        "  -> Pre-defined keywords are reserved words that have special meanings and cannot be used as variable names or identifiers. Here are some examples -Conditinal keywords (IF, ELSE, ELIF), Comparison Keywords (AND, OR, NOT,...) etc."
      ],
      "metadata": {
        "id": "PmrI2BVHaNbG"
      }
    },
    {
      "cell_type": "markdown",
      "source": [
        "4. Can keywords be used as variable names?\n",
        "  \n",
        "  -> No, keywords in Python cannot be used as variable names. Keywords are reserved words that have special meanings.\n"
      ],
      "metadata": {
        "id": "45zQjZxscWNY"
      }
    },
    {
      "cell_type": "markdown",
      "source": [
        "5. What is mutability in Python?\n",
        "  \n",
        "  -> In Python, mutability refers to the ability of an object to change its state or value after it's created. Exampels - List, Sets, Dictionaries.\n"
      ],
      "metadata": {
        "id": "nS4QjPukcxsV"
      }
    },
    {
      "cell_type": "markdown",
      "source": [
        "6. Why are lists mutable, but tuples are immutable?\n",
        "  \n",
        "  -> Lists are mutable because they need to dynamically adjust their size to accommodate changes,lists are considered mutable because they can be modified after creation, while tuples are immutable because they have a fixed size and modifying them would be inefficient."
      ],
      "metadata": {
        "id": "aNI_pZw2dh26"
      }
    },
    {
      "cell_type": "markdown",
      "source": [
        "7. What is the difference between “==” and “is” operators in Python?\n",
        "  \n",
        "  -> In Python, \"==\" and \"is\" are two different operators that are often confused with each other.\n",
        "  \n",
        "  \"==\" Operator (Equality Operator) that's checks whether the values of two variables are equal.\n",
        "\"is\" Operator (Identity Operator) that's operator checks whether two variables refer to the same object in memory. It compares the identities of the variables, not their values>\n"
      ],
      "metadata": {
        "id": "evLj7-JEeu42"
      }
    },
    {
      "cell_type": "markdown",
      "source": [
        "8. What are logical operators in Python?\n",
        "  \n",
        "  -> logical operators are used to combine conditional statements or expressions to create more complex conditions. Examples - \"and\" , \"or\" & \"Not\"."
      ],
      "metadata": {
        "id": "iUpmElF7fsPa"
      }
    },
    {
      "cell_type": "markdown",
      "source": [
        "9. What is type casting in Python?\n",
        "\n",
        "  -> It's a method, Where user converts the datatype into another datatype automatically. Users don’t have to involve in this process. There are two types of type casting Implict & Explicit."
      ],
      "metadata": {
        "id": "xjVEmE3LlS1Z"
      }
    },
    {
      "cell_type": "markdown",
      "source": [
        "10. What is the difference between implicit and explicit type casting?\n",
        "  \n",
        "  -> In type casting there are two types of type case Implict & Explicit.\n",
        "  \n",
        "  Implicit - In this, method, Python converts the datatype into another datatype automatically. Users don’t have to involve in this process.\n",
        "\n",
        "  Explicit - In this method, Python needs user involvement to convert the variable data type into the required data type."
      ],
      "metadata": {
        "id": "eLRfh3dFlXsH"
      }
    },
    {
      "cell_type": "markdown",
      "source": [
        "11. What is the purpose of conditional statements in Python?\n",
        "  \n",
        "  -> Conditional statements in Python are used to control the flow of a program based on certain conditions or decisions. They allow you to execute specific blocks of code if certain conditions are met. Main purpose for conditional satement in python for better desician making, control of the flow & Error handiling. Common Type of Conditional Satements are If, If-else, If-elif, Nested If statement."
      ],
      "metadata": {
        "id": "yMgxenTonWN1"
      }
    },
    {
      "cell_type": "markdown",
      "source": [
        "12. How does the elif statement work?\n",
        "\n",
        "  ->In Python, the elif statement is a combination of else and if statements. It's used to check multiple conditions and execute different blocks of code accordingly. Elif saying \"if the previous conditions were not true, then try this condition\"."
      ],
      "metadata": {
        "id": "vgvFVOiYoizw"
      }
    },
    {
      "cell_type": "markdown",
      "source": [
        "13.  What is the difference between for and while loops?\n",
        "  \n",
        "  ->In Python, while and for are two types of loops that allow you to execute a block of code repeatedly.\n",
        "\n",
        "  While loops -  while loop is used to repeat a block of code as long as a certain condition is true. The loop continues to execute until the condition becomes false.\n",
        "\n",
        "  For Loops - For loop is used to iterate over a sequence or an iterable object. The loop iterates over each item in the sequence.\n",
        "\n",
        "\n"
      ],
      "metadata": {
        "id": "SmN6-tcOpx74"
      }
    },
    {
      "cell_type": "markdown",
      "source": [
        "14. Describe a scenario where a while loop is more suitable than a for loop.\n",
        "\n",
        "  ->Suppose you're building a game where a player has to guess a randomly generated number between 1 and 100. The player has unlimited attempts to guess the number. After each guess, the game provides feedback in the form of \"too high\" or \"too low\" to help the player narrow down the range.\n",
        "  \n",
        "  In this scenario, you wouldn't know in advance how many attempts the player would need to guess the number correctly. Therefore, you can't use a for loop, which requires a fixed number of iterations.\n",
        "\n",
        "  A while loop is more suitable here because it allows you to repeat a block of code (in this case, asking the player for their guess and providing feedback) until a certain condition is met (the player guesses the number correctly).\n"
      ],
      "metadata": {
        "id": "l3C9zuT5q3o7"
      }
    },
    {
      "cell_type": "markdown",
      "source": [
        " Practical Questions"
      ],
      "metadata": {
        "id": "2LR29WWprRCi"
      }
    },
    {
      "cell_type": "code",
      "source": [
        "#1. Write a Python program to print \"Hello, World!\n",
        "\n",
        "a=\"Hello, World\"\n",
        "print(a)"
      ],
      "metadata": {
        "colab": {
          "base_uri": "https://localhost:8080/"
        },
        "id": "siy6OXhfhQiN",
        "outputId": "efd052a6-5f6b-41fe-b0ba-8e13855e31ba"
      },
      "execution_count": 1,
      "outputs": [
        {
          "output_type": "stream",
          "name": "stdout",
          "text": [
            "Hello, World\n"
          ]
        }
      ]
    },
    {
      "cell_type": "code",
      "source": [
        "#2. Write a Python program that displays your name and age.\n",
        "\n",
        "name=\"Durlav Shome\"\n",
        "age=27\n",
        "print(\"Name:\",name)\n",
        "print(\"Age:\",age)"
      ],
      "metadata": {
        "colab": {
          "base_uri": "https://localhost:8080/"
        },
        "id": "Cs6iN1WHhg29",
        "outputId": "c83c742e-67f7-4b1d-fbae-29fac454ad63"
      },
      "execution_count": 5,
      "outputs": [
        {
          "output_type": "stream",
          "name": "stdout",
          "text": [
            "Name: Durlav Shome\n",
            "Age: 27\n"
          ]
        }
      ]
    },
    {
      "cell_type": "code",
      "source": [
        "#3. Write code to print all the pre-defined keywords in Python using the keyword library\n",
        "help(\"keywords\")"
      ],
      "metadata": {
        "colab": {
          "base_uri": "https://localhost:8080/"
        },
        "id": "_WTJrRU7jkGI",
        "outputId": "ad4b60c1-afbe-475c-8d26-354449cde159"
      },
      "execution_count": 10,
      "outputs": [
        {
          "output_type": "stream",
          "name": "stdout",
          "text": [
            "\n",
            "Here is a list of the Python keywords.  Enter any keyword to get more help.\n",
            "\n",
            "False               class               from                or\n",
            "None                continue            global              pass\n",
            "True                def                 if                  raise\n",
            "and                 del                 import              return\n",
            "as                  elif                in                  try\n",
            "assert              else                is                  while\n",
            "async               except              lambda              with\n",
            "await               finally             nonlocal            yield\n",
            "break               for                 not                 \n",
            "\n"
          ]
        }
      ]
    },
    {
      "cell_type": "code",
      "source": [
        "#4. Write a program that checks if a given word is a Python keyword.\n",
        "\n",
        "word = input(\"Enter a word: \")\n",
        "\n",
        "if is_keyword(word):\n",
        "  print(f\"{word} is a Python keyword.\")\n",
        "else:\n",
        "  print(f\"{word} is not a Python keyword.\")"
      ],
      "metadata": {
        "colab": {
          "base_uri": "https://localhost:8080/"
        },
        "id": "WZocwdEzkDEj",
        "outputId": "0191f8a2-5d04-48ef-bb2f-83925efe0a06"
      },
      "execution_count": 33,
      "outputs": [
        {
          "output_type": "stream",
          "name": "stdout",
          "text": [
            "Enter a word: hh\n",
            "hh is not a Python keyword.\n"
          ]
        }
      ]
    },
    {
      "cell_type": "code",
      "source": [
        "#5. Create a list and tuple in Python, and demonstrate how attempting to change an element works differently for each.\n",
        "\n",
        "\n",
        "d_list = [\"cricket\", \"football\", \"e_sports\"] # Create a list\n",
        "s_tuple = (\"dhoni\", \"rohit\", \"virat\") # Create a tuple\n",
        "\n",
        "print(\"Original list:\", d_list)\n",
        "d_list[2] = \"hockey\"  # change in the list & it works because is muteable.\n",
        "print(\"Modified list:\", d_list)\n",
        "\n",
        "print(\"Original tuple:\", s_tuple) #try to change in tuple but its shows erro because its immuteable.\n",
        "#s_tuple[1] = \"sourav\"  # This will raise a TypeError (TypeError: 'tuple' object does not support item assignment)\n"
      ],
      "metadata": {
        "colab": {
          "base_uri": "https://localhost:8080/"
        },
        "id": "qqigfYrwlgxk",
        "outputId": "0f19d6bd-f4a2-4331-e982-b8cdb20bf60e"
      },
      "execution_count": 32,
      "outputs": [
        {
          "output_type": "stream",
          "name": "stdout",
          "text": [
            "Original list: ['cricket', 'football', 'e_sports']\n",
            "Modified list: ['cricket', 'football', 'hockey']\n",
            "Original tuple: ('dhoni', 'rohit', 'virat')\n"
          ]
        }
      ]
    },
    {
      "cell_type": "code",
      "source": [
        "#6. Write a function to demonstrate the behavior of mutable and immutable argument.\n",
        "def modify_arguments(mutable_arg, immutable_arg):\n",
        "    mutable_arg.append(4)\n",
        "    immutable_arg += 1\n",
        "\n",
        "    print(\"Inside function:\")\n",
        "    print(\"Mutable:\", mutable_arg)\n",
        "    print(\"Immutable:\", immutable_arg)\n",
        "\n",
        "my_list = [1, 2, 3]\n",
        "my_int = 5\n",
        "\n",
        "print(\"Before function call:\")\n",
        "print(\"List:\", my_list)\n",
        "print(\"Integer:\", my_int)\n",
        "\n",
        "modify_arguments(my_list, my_int)\n",
        "\n",
        "print(\"After function call:\")\n",
        "print(\"List:\", my_list)\n",
        "print(\"Integer:\", my_int)"
      ],
      "metadata": {
        "colab": {
          "base_uri": "https://localhost:8080/"
        },
        "id": "UuytTQGCmM7C",
        "outputId": "65389051-e409-4c7a-9334-73d32c7da394"
      },
      "execution_count": 34,
      "outputs": [
        {
          "output_type": "stream",
          "name": "stdout",
          "text": [
            "Before function call:\n",
            "List: [1, 2, 3]\n",
            "Integer: 5\n",
            "Inside function:\n",
            "Mutable: [1, 2, 3, 4]\n",
            "Immutable: 6\n",
            "After function call:\n",
            "List: [1, 2, 3, 4]\n",
            "Integer: 5\n"
          ]
        }
      ]
    },
    {
      "cell_type": "code",
      "source": [
        "#7. Write a function to demonstrate the behavior of mutable and immutable arguments\n",
        "\n",
        "def modify_arguments(mutable_arg, immutable_arg):\n",
        "    mutable_arg.append(4)\n",
        "    immutable_arg += 1\n",
        "\n",
        "    print(\"Inside function:\")\n",
        "    print(\"Mutable:\", mutable_arg)\n",
        "    print(\"Immutable:\", immutable_arg)\n",
        "\n",
        "my_list = [1, 2, 3]\n",
        "my_int = 5\n",
        "\n",
        "print(\"Before function call:\")\n",
        "print(\"List:\", my_list)\n",
        "print(\"Integer:\", my_int)\n",
        "\n",
        "modify_arguments(my_list, my_int)\n",
        "\n",
        "print(\"After function call:\")\n",
        "print(\"List:\", my_list)\n",
        "print(\"Integer:\", my_int)"
      ],
      "metadata": {
        "colab": {
          "base_uri": "https://localhost:8080/"
        },
        "id": "FiTH6PKPqv0Z",
        "outputId": "177b621e-ad27-453a-b7ed-0fa0267e44aa"
      },
      "execution_count": 40,
      "outputs": [
        {
          "output_type": "stream",
          "name": "stdout",
          "text": [
            "Before function call:\n",
            "List: [1, 2, 3]\n",
            "Integer: 5\n",
            "Inside function:\n",
            "Mutable: [1, 2, 3, 4]\n",
            "Immutable: 6\n",
            "After function call:\n",
            "List: [1, 2, 3, 4]\n",
            "Integer: 5\n"
          ]
        }
      ]
    },
    {
      "cell_type": "code",
      "source": [
        "#8. Write a program to demonstrate the use of logical operators.\n",
        "\n",
        "x = 5\n",
        "y = 10\n",
        "if x > 0 and y > 0:  # Use of logical operators \"AND\"\n",
        "    print(\"Both x and y are positive\")\n",
        "\n",
        "a = 15\n",
        "b = 0\n",
        "if a > 10 or b > 10: # Use of logical operators \"OR\"\n",
        "    print(\"At least one of a or b is greater than 10\")\n",
        "\n",
        "is_raining = False # Use of logical operators \"NOT\"\n",
        "if not is_raining:\n",
        "    print(\"We can play cricket\")"
      ],
      "metadata": {
        "colab": {
          "base_uri": "https://localhost:8080/"
        },
        "id": "FLGHaEyYrXlR",
        "outputId": "14058a00-c04c-4e55-b7e3-a8dce5bfca8a"
      },
      "execution_count": 42,
      "outputs": [
        {
          "output_type": "stream",
          "name": "stdout",
          "text": [
            "Both x and y are positive\n",
            "At least one of a or b is greater than 10\n",
            "We can play cricket\n"
          ]
        }
      ]
    },
    {
      "cell_type": "code",
      "source": [
        "#9. Write a Python program to convert user input from string to integer, float, and boolean types.\n",
        "def convert_input(value):\n",
        "    \"\"\"Converts user input to integer, float, or boolean.\"\"\"\n",
        "\n",
        "    try:\n",
        "        # Try converting to integer\n",
        "        return int(value)\n",
        "    except ValueError:\n",
        "        try:\n",
        "            # Try converting to float\n",
        "            return float(value)\n",
        "        except ValueError:\n",
        "            # Try converting to boolean\n",
        "            if value.lower() == 'true':\n",
        "                return True\n",
        "            elif value.lower() == 'false':\n",
        "                return False\n",
        "            else:\n",
        "                return value  # Return the original string if no conversion is possible\n",
        "\n",
        "if __name__ == \"__main__\":\n",
        "    user_input = input(\"Enter a value: \")\n",
        "    converted_value = convert_input(user_input)\n",
        "\n",
        "    print(\"Original value:\", user_input)\n",
        "    print(\"Converted value:\", converted_value)\n",
        "    print(\"Converted type:\", type(converted_value))"
      ],
      "metadata": {
        "colab": {
          "base_uri": "https://localhost:8080/"
        },
        "id": "ACEZmzr5tFvy",
        "outputId": "4d66c63d-a179-4b06-dc47-b0e94dad4d86"
      },
      "execution_count": 44,
      "outputs": [
        {
          "output_type": "stream",
          "name": "stdout",
          "text": [
            "Enter a value: Durlav\n",
            "Original value: Durlav\n",
            "Converted value: Durlav\n",
            "Converted type: <class 'str'>\n"
          ]
        }
      ]
    },
    {
      "cell_type": "code",
      "source": [
        "#10. Write code to demonstrate type casting with list elements\n",
        "\n",
        "# Create a list with elements of different types\n",
        "d_list = [100, 5.55, \"5656\", True]\n",
        "\n",
        "# Cast each element to a specific type\n",
        "int_list = [int(x) for x in d_list]\n",
        "float_list = [float(x) for x in d_list]\n",
        "str_list = [str(x) for x in d_list]\n",
        "\n",
        "# Print the resulting lists\n",
        "print(\"Original List:\", d_list)\n",
        "print(\"Int List:\", int_list)\n",
        "print(\"Float List:\", float_list)\n",
        "print(\"Str List:\", str_list)"
      ],
      "metadata": {
        "colab": {
          "base_uri": "https://localhost:8080/"
        },
        "id": "SPEmuwaItkt5",
        "outputId": "1c6e631a-b255-49be-ae9b-4b8443ab60ae"
      },
      "execution_count": 50,
      "outputs": [
        {
          "output_type": "stream",
          "name": "stdout",
          "text": [
            "Original List: [100, 5.55, '5656', True]\n",
            "Int List: [100, 5, 5656, 1]\n",
            "Float List: [100.0, 5.55, 5656.0, 1.0]\n",
            "Str List: ['100', '5.55', '5656', 'True']\n"
          ]
        }
      ]
    },
    {
      "cell_type": "code",
      "source": [
        "#11. Write a program that checks if a number is positive, negative, or zero.\n",
        "\n",
        "num = float(input(\"Enter a number: \"))\n",
        "if num > 0:\n",
        "   print(\"Positive number\")\n",
        "elif num == 0:\n",
        "   print(\"Zero\")\n",
        "else:\n",
        "   print(\"Negative number\")\n"
      ],
      "metadata": {
        "colab": {
          "base_uri": "https://localhost:8080/"
        },
        "id": "t2GGqfpnuFuO",
        "outputId": "f64c1f0d-b5fd-41d1-bbea-16c7184eb049"
      },
      "execution_count": 53,
      "outputs": [
        {
          "output_type": "stream",
          "name": "stdout",
          "text": [
            "Enter a number: 5\n",
            "Positive number\n"
          ]
        }
      ]
    },
    {
      "cell_type": "code",
      "source": [
        "#12. Write a for loop to print numbers from 1 to 10.\n",
        "\n",
        "for i in range(1, 11):\n",
        "    print(i)"
      ],
      "metadata": {
        "colab": {
          "base_uri": "https://localhost:8080/"
        },
        "id": "TlJ2TXYuu7rS",
        "outputId": "f4e131f9-8bba-4fa5-87b2-e4e4dded69ea"
      },
      "execution_count": 54,
      "outputs": [
        {
          "output_type": "stream",
          "name": "stdout",
          "text": [
            "1\n",
            "2\n",
            "3\n",
            "4\n",
            "5\n",
            "6\n",
            "7\n",
            "8\n",
            "9\n",
            "10\n"
          ]
        }
      ]
    },
    {
      "cell_type": "code",
      "source": [
        "#13. Write a Python program to find the sum of all even numbers between 1 and 50\n",
        "\n",
        "total = 0\n",
        "for num in range(2, 51, 2):\n",
        "    total += num\n",
        "\n",
        "print(\"The sum of all even numbers between 1 and 50 is -\", total)\n"
      ],
      "metadata": {
        "colab": {
          "base_uri": "https://localhost:8080/"
        },
        "id": "2Xk-Z_gkvbJV",
        "outputId": "cf6f000f-0c0e-4e6c-ebf4-ca521ab5abd0"
      },
      "execution_count": 57,
      "outputs": [
        {
          "output_type": "stream",
          "name": "stdout",
          "text": [
            "The sum of all even numbers between 1 and 50 is - 650\n"
          ]
        }
      ]
    },
    {
      "cell_type": "code",
      "source": [
        "#14. Write a program to reverse a string using a while loop.\n",
        "\n",
        "name= str((input(\"Enter the name: \")))\n",
        "i = len(name) - 1\n",
        "\n",
        "while i >= 0:\n",
        "    print(name[i], end = '')\n",
        "    i = i - 1"
      ],
      "metadata": {
        "colab": {
          "base_uri": "https://localhost:8080/"
        },
        "id": "46wXkoDRvs78",
        "outputId": "904657b7-14cb-4657-d8e1-48cc4e4f013d"
      },
      "execution_count": 59,
      "outputs": [
        {
          "output_type": "stream",
          "name": "stdout",
          "text": [
            "Enter the name: PWSkills\n",
            "sllikSWP"
          ]
        }
      ]
    },
    {
      "cell_type": "code",
      "source": [
        "#15. Write a Python program to calculate the factorial of a number provided by the user using a while loop.\n",
        "# Get input from the user\n",
        "num = int(input(\"Enter a non-negative integer: \"))\n",
        "\n",
        "# Handle negative numbers\n",
        "if num < 0:\n",
        "    print(\"Factorial is not defined for negative numbers.\")\n",
        "else:\n",
        "    # Calculate factorial using a while loop\n",
        "    factorial = 1\n",
        "    while num > 0:\n",
        "        factorial *= num\n",
        "        num -= 1\n",
        "\n",
        "    # Print the result\n",
        "    print(\"The factorial is:\", factorial)"
      ],
      "metadata": {
        "colab": {
          "base_uri": "https://localhost:8080/"
        },
        "id": "COEmOxjywM5a",
        "outputId": "c81b428f-601c-45ab-e7e0-bfbc2af18f6f"
      },
      "execution_count": 66,
      "outputs": [
        {
          "output_type": "stream",
          "name": "stdout",
          "text": [
            "Enter a non-negative integer: -9\n",
            "Factorial is not defined for negative numbers.\n"
          ]
        }
      ]
    },
    {
      "cell_type": "code",
      "source": [],
      "metadata": {
        "id": "g1gWEk98w2Ai"
      },
      "execution_count": null,
      "outputs": []
    }
  ]
}